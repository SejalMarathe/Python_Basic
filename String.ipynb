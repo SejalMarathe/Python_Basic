{
 "cells": [
  {
   "cell_type": "markdown",
   "id": "b6e667f0",
   "metadata": {},
   "source": [
    "# Basic questions of Python"
   ]
  },
  {
   "cell_type": "markdown",
   "id": "62dfe81a",
   "metadata": {},
   "source": [
    "#### String"
   ]
  },
  {
   "cell_type": "code",
   "execution_count": 1,
   "id": "768e35d4",
   "metadata": {},
   "outputs": [
    {
     "name": "stdout",
     "output_type": "stream",
     "text": [
      "Enter the name: sejal\n",
      "Hello sejal\n"
     ]
    }
   ],
   "source": [
    "# 1. take name as input and say hello\n",
    "name = input(\"Enter the name: \")\n",
    "print(f\"Hello {name}\")"
   ]
  },
  {
   "cell_type": "code",
   "execution_count": 6,
   "id": "d4fff0b4",
   "metadata": {},
   "outputs": [
    {
     "name": "stdout",
     "output_type": "stream",
     "text": [
      "2\n"
     ]
    }
   ],
   "source": [
    "# 2. From below string print count of \"Is\".\n",
    "st = \"Is minu good girl and Is she good in study?\"\n",
    "st = st.lower()\n",
    "stt = st.count(\"is\")\n",
    "print(stt)"
   ]
  },
  {
   "cell_type": "code",
   "execution_count": 8,
   "id": "f9a50546",
   "metadata": {},
   "outputs": [
    {
     "name": "stdout",
     "output_type": "stream",
     "text": [
      "['Is', 'minu', 'good', 'girl', 'and', 'Is', 'she', 'good', 'in', 'study?']\n"
     ]
    }
   ],
   "source": [
    "# 3. from below string split the words by space\n",
    "st = \"Is minu good girl and Is she good in study?\"\n",
    "sp = st.split()\n",
    "print(sp)"
   ]
  },
  {
   "cell_type": "code",
   "execution_count": 11,
   "id": "9424f409",
   "metadata": {},
   "outputs": [
    {
     "data": {
      "text/plain": [
       "'Data=is=new=oil'"
      ]
     },
     "execution_count": 11,
     "metadata": {},
     "output_type": "execute_result"
    }
   ],
   "source": [
    "# 4. now from below list, join all words by \"=\" and create a sentence.\n",
    "list_1 = [\"Data\", \"is\", \"new\", \"oil\"]\n",
    "s = \"=\"\n",
    "s.join(list_1)"
   ]
  },
  {
   "cell_type": "code",
   "execution_count": 12,
   "id": "6d17c66c",
   "metadata": {},
   "outputs": [
    {
     "data": {
      "text/plain": [
       "'I love programming in Python.'"
      ]
     },
     "execution_count": 12,
     "metadata": {},
     "output_type": "execute_result"
    }
   ],
   "source": [
    "# 5. from below string replace \"Java\" with \"Python\"\n",
    "sentence = \"I love programming in Java.\"\n",
    "sentence.replace(\"Java\", \"Python\")"
   ]
  },
  {
   "cell_type": "code",
   "execution_count": 15,
   "id": "8aa6129f",
   "metadata": {},
   "outputs": [
    {
     "data": {
      "text/plain": [
       "'This is a message with spaces.'"
      ]
     },
     "execution_count": 15,
     "metadata": {},
     "output_type": "execute_result"
    }
   ],
   "source": [
    "# 6. from below string remove(strip) additional spaces and print it\n",
    "message = \"   This is a message with spaces.   \"\n",
    "message.strip()"
   ]
  },
  {
   "cell_type": "code",
   "execution_count": 16,
   "id": "2901a0de",
   "metadata": {},
   "outputs": [
    {
     "data": {
      "text/plain": [
       "10"
      ]
     },
     "execution_count": 16,
     "metadata": {},
     "output_type": "execute_result"
    }
   ],
   "source": [
    "# 7. From below string find postion(start index) of \"sample\"\n",
    "sentence = \"This is a sample sentence.\"\n",
    "sentence.index(\"sample\")"
   ]
  },
  {
   "cell_type": "code",
   "execution_count": 19,
   "id": "12bc1df7",
   "metadata": {},
   "outputs": [
    {
     "data": {
      "text/plain": [
       "14"
      ]
     },
     "execution_count": 19,
     "metadata": {},
     "output_type": "execute_result"
    }
   ],
   "source": [
    "# 8. Given the string \"Python is fun!\", how can you calculate and print its length?\n",
    "text = \"Python is fun!\"\n",
    "len(text)"
   ]
  },
  {
   "cell_type": "code",
   "execution_count": 22,
   "id": "10ee7e70",
   "metadata": {},
   "outputs": [
    {
     "data": {
      "text/plain": [
       "'elppaeniP'"
      ]
     },
     "execution_count": 22,
     "metadata": {},
     "output_type": "execute_result"
    }
   ],
   "source": [
    "# 9. Print below string in reverse order\n",
    "string = \"Pineapple\"\n",
    "string[::-1]"
   ]
  },
  {
   "cell_type": "code",
   "execution_count": 29,
   "id": "e88d051f",
   "metadata": {},
   "outputs": [
    {
     "data": {
      "text/plain": [
       "'Welcome To Python Programming.'"
      ]
     },
     "execution_count": 29,
     "metadata": {},
     "output_type": "execute_result"
    }
   ],
   "source": [
    "#10. Given the string \"Welcome to Python Programming.\",how can you capitalize the first letter of each word and print the modified string?\n",
    "text = \"Welcome to Python Programming.\"\n",
    "text.title()"
   ]
  },
  {
   "cell_type": "code",
   "execution_count": 30,
   "id": "d1df343c",
   "metadata": {},
   "outputs": [
    {
     "data": {
      "text/plain": [
       "'DATA IS NEW OIL'"
      ]
     },
     "execution_count": 30,
     "metadata": {},
     "output_type": "execute_result"
    }
   ],
   "source": [
    "# 11. Convert all letter of string to Upper Case\n",
    "text = \"Data is new oil\"\n",
    "text.upper()"
   ]
  },
  {
   "cell_type": "code",
   "execution_count": 34,
   "id": "f8afba08",
   "metadata": {},
   "outputs": [
    {
     "data": {
      "text/plain": [
       "'I am learning python'"
      ]
     },
     "execution_count": 34,
     "metadata": {},
     "output_type": "execute_result"
    }
   ],
   "source": [
    "#12. From below string just convert first lettter of string to upper case\n",
    "text = \"i am learning python\"\n",
    "text.capitalize()"
   ]
  },
  {
   "cell_type": "code",
   "execution_count": 35,
   "id": "6b121cc5",
   "metadata": {},
   "outputs": [
    {
     "data": {
      "text/plain": [
       "'dAta IS nEw Oil'"
      ]
     },
     "execution_count": 35,
     "metadata": {},
     "output_type": "execute_result"
    }
   ],
   "source": [
    "# 13. Convert all uppper case to lower and lower case to upper\n",
    "text = \"DaTA is NeW oIL\"\n",
    "text.swapcase()"
   ]
  },
  {
   "cell_type": "code",
   "execution_count": 37,
   "id": "a724ddc4",
   "metadata": {},
   "outputs": [
    {
     "name": "stdout",
     "output_type": "stream",
     "text": [
      "50\n"
     ]
    }
   ],
   "source": [
    "# 14. print the addition of below 2 strings\n",
    "a = 20\n",
    "b = 30\n",
    "print(a+b)"
   ]
  },
  {
   "cell_type": "code",
   "execution_count": 38,
   "id": "52e1544b",
   "metadata": {},
   "outputs": [
    {
     "name": "stdout",
     "output_type": "stream",
     "text": [
      "2030\n"
     ]
    }
   ],
   "source": [
    "# 15. print the additiono of below 2 strings\n",
    "a = \"20\"    \n",
    "b = \"30\"\n",
    "print(a+b)"
   ]
  }
 ],
 "metadata": {
  "kernelspec": {
   "display_name": "Python 3 (ipykernel)",
   "language": "python",
   "name": "python3"
  },
  "language_info": {
   "codemirror_mode": {
    "name": "ipython",
    "version": 3
   },
   "file_extension": ".py",
   "mimetype": "text/x-python",
   "name": "python",
   "nbconvert_exporter": "python",
   "pygments_lexer": "ipython3",
   "version": "3.9.12"
  }
 },
 "nbformat": 4,
 "nbformat_minor": 5
}
