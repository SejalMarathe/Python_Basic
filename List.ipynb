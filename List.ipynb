{
 "cells": [
  {
   "cell_type": "markdown",
   "id": "b609f62b",
   "metadata": {},
   "source": [
    "#### List"
   ]
  },
  {
   "cell_type": "code",
   "execution_count": 3,
   "id": "bb991345",
   "metadata": {},
   "outputs": [
    {
     "name": "stdout",
     "output_type": "stream",
     "text": [
      "[1, 2, 3, 44, 5]\n"
     ]
    }
   ],
   "source": [
    "## 16. From below list replace 4 with 44\n",
    "my_list = [1, 2, 3, 4, 5]\n",
    "my_list[3] = 44\n",
    "print(my_list)"
   ]
  },
  {
   "cell_type": "code",
   "execution_count": 7,
   "id": "e045e4b3",
   "metadata": {},
   "outputs": [
    {
     "data": {
      "text/plain": [
       "[1, 2, 3, 200, 4, 5]"
      ]
     },
     "execution_count": 7,
     "metadata": {},
     "output_type": "execute_result"
    }
   ],
   "source": [
    "## 17. In below list add(insert) 200 at index 3\n",
    "my_list = [1, 2, 3, 4, 5]\n",
    "my_list.insert(3, 200)\n",
    "print(my_list)"
   ]
  },
  {
   "cell_type": "code",
   "execution_count": 10,
   "id": "8b8bca4f",
   "metadata": {},
   "outputs": [
    {
     "name": "stdout",
     "output_type": "stream",
     "text": [
      "[1, 2, 3, 4, 5, 66]\n"
     ]
    }
   ],
   "source": [
    "## 18. In below list add new number 66\n",
    "my_list = [1, 2, 3, 4, 5]\n",
    "my_list.append(66)\n",
    "print(my_list)"
   ]
  },
  {
   "cell_type": "code",
   "execution_count": 17,
   "id": "19afbbe2",
   "metadata": {},
   "outputs": [
    {
     "name": "stdout",
     "output_type": "stream",
     "text": [
      "[1, 2, 3, 4, 5, 66, 87, 99]\n"
     ]
    }
   ],
   "source": [
    "## 19 In below list insert new numbers 66,87,99\n",
    "my_list = [1, 2, 3, 4, 5] \n",
    "my_list.extend([66, 87, 99])\n",
    "print(my_list)"
   ]
  },
  {
   "cell_type": "code",
   "execution_count": 19,
   "id": "d12d43e5",
   "metadata": {},
   "outputs": [
    {
     "data": {
      "text/plain": [
       "[1, 2, 4, 5]"
      ]
     },
     "execution_count": 19,
     "metadata": {},
     "output_type": "execute_result"
    }
   ],
   "source": [
    "## 20. from below list remove number 3\n",
    "my_list = [1, 2, 3, 4, 5]\n",
    "my_list.remove(3)\n",
    "print(my_list)"
   ]
  },
  {
   "cell_type": "code",
   "execution_count": 21,
   "id": "606601df",
   "metadata": {},
   "outputs": [
    {
     "data": {
      "text/plain": [
       "2"
      ]
     },
     "execution_count": 21,
     "metadata": {},
     "output_type": "execute_result"
    }
   ],
   "source": [
    "## 21. From below list print count of \"cherry\"\n",
    "my_list = [1, 2.5, \"cherry\", 3, \"banana\", 4.0, \"cherry\"]\n",
    "my_list.count(\"cherry\")"
   ]
  },
  {
   "cell_type": "code",
   "execution_count": 22,
   "id": "1d275652",
   "metadata": {},
   "outputs": [
    {
     "data": {
      "text/plain": [
       "4"
      ]
     },
     "execution_count": 22,
     "metadata": {},
     "output_type": "execute_result"
    }
   ],
   "source": [
    "## 22. From below list print index of \"banana\"\n",
    "my_list = [1, 2.5, \"apple\", 3, \"banana\", 4.0, \"cherry\"]\n",
    "my_list.index(\"banana\")"
   ]
  },
  {
   "cell_type": "code",
   "execution_count": 26,
   "id": "5f2cabb7",
   "metadata": {},
   "outputs": [
    {
     "name": "stdout",
     "output_type": "stream",
     "text": [
      "['Pune', 'Delhi', 'Mumbai', 'Indore', 'Jaipur']\n"
     ]
    }
   ],
   "source": [
    "## 23. From below list remove last item\n",
    "my_list = [\"Pune\",\"Delhi\",\"Mumbai\",\"Indore\",\"Jaipur\",\"Dehradun\"]\n",
    "my_list.remove(my_list[-1])\n",
    "print(my_list)"
   ]
  },
  {
   "cell_type": "code",
   "execution_count": 28,
   "id": "040ad214",
   "metadata": {},
   "outputs": [
    {
     "name": "stdout",
     "output_type": "stream",
     "text": [
      "['Apple', 'Banana', 'Cherry', 'Grapes', 'Mango']\n"
     ]
    }
   ],
   "source": [
    "## 24. Sort the below list in Alphabetical order\n",
    "my_list = [\"Grapes\",\"Apple\",\"Cherry\",\"Mango\",\"Banana\"]\n",
    "my_list.sort()\n",
    "print(my_list)"
   ]
  },
  {
   "cell_type": "code",
   "execution_count": 33,
   "id": "b9e91db4",
   "metadata": {},
   "outputs": [
    {
     "name": "stdout",
     "output_type": "stream",
     "text": [
      "['Mango', 'Grapes', 'Cherry', 'Banana', 'Apple']\n"
     ]
    }
   ],
   "source": [
    "## 25. Sort below list in reverse Alphabetical order\n",
    "my_list = [\"Grapes\",\"Apple\",\"Cherry\",\"Mango\",\"Banana\"]\n",
    "my_list.sort(reverse = True)\n",
    "print(my_list)"
   ]
  }
 ],
 "metadata": {
  "kernelspec": {
   "display_name": "Python 3 (ipykernel)",
   "language": "python",
   "name": "python3"
  },
  "language_info": {
   "codemirror_mode": {
    "name": "ipython",
    "version": 3
   },
   "file_extension": ".py",
   "mimetype": "text/x-python",
   "name": "python",
   "nbconvert_exporter": "python",
   "pygments_lexer": "ipython3",
   "version": "3.9.12"
  }
 },
 "nbformat": 4,
 "nbformat_minor": 5
}
