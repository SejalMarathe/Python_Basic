{
 "cells": [
  {
   "cell_type": "markdown",
   "id": "b609f62b",
   "metadata": {},
   "source": [
    "#### List"
   ]
  },
  {
   "cell_type": "code",
   "execution_count": 14,
   "id": "bb991345",
   "metadata": {},
   "outputs": [
    {
     "name": "stdout",
     "output_type": "stream",
     "text": [
      "[1, 2, 3, 44, 5]\n"
     ]
    }
   ],
   "source": [
    "## 1. From below list replace 4 with 44\n",
    "my_list = [1, 2, 3, 4, 5]\n",
    "my_list[3] = 44\n",
    "print(my_list)"
   ]
  },
  {
   "cell_type": "code",
   "execution_count": 15,
   "id": "e045e4b3",
   "metadata": {},
   "outputs": [
    {
     "name": "stdout",
     "output_type": "stream",
     "text": [
      "[1, 2, 3, 200, 4, 5]\n"
     ]
    }
   ],
   "source": [
    "## 2. In below list add(insert) 200 at index 3\n",
    "my_list = [1, 2, 3, 4, 5]\n",
    "my_list.insert(3, 200)\n",
    "print(my_list)"
   ]
  },
  {
   "cell_type": "code",
   "execution_count": 16,
   "id": "8b8bca4f",
   "metadata": {},
   "outputs": [
    {
     "name": "stdout",
     "output_type": "stream",
     "text": [
      "[1, 2, 3, 4, 5, 66]\n"
     ]
    }
   ],
   "source": [
    "## 3. In below list add new number 66\n",
    "my_list = [1, 2, 3, 4, 5]\n",
    "my_list.append(66)\n",
    "print(my_list)"
   ]
  },
  {
   "cell_type": "code",
   "execution_count": 17,
   "id": "19afbbe2",
   "metadata": {},
   "outputs": [
    {
     "name": "stdout",
     "output_type": "stream",
     "text": [
      "[1, 2, 3, 4, 5, 66, 87, 99]\n"
     ]
    }
   ],
   "source": [
    "## 4. In below list insert new numbers 66,87,99\n",
    "my_list = [1, 2, 3, 4, 5] \n",
    "my_list.extend([66, 87, 99])\n",
    "print(my_list)"
   ]
  },
  {
   "cell_type": "code",
   "execution_count": 18,
   "id": "d12d43e5",
   "metadata": {},
   "outputs": [
    {
     "name": "stdout",
     "output_type": "stream",
     "text": [
      "[1, 2, 4, 5]\n"
     ]
    }
   ],
   "source": [
    "## 5. from below list remove number 3\n",
    "my_list = [1, 2, 3, 4, 5]\n",
    "my_list.remove(3)\n",
    "print(my_list)"
   ]
  },
  {
   "cell_type": "code",
   "execution_count": 19,
   "id": "606601df",
   "metadata": {},
   "outputs": [
    {
     "data": {
      "text/plain": [
       "2"
      ]
     },
     "execution_count": 19,
     "metadata": {},
     "output_type": "execute_result"
    }
   ],
   "source": [
    "## 6. From below list print count of \"cherry\"\n",
    "my_list = [1, 2.5, \"cherry\", 3, \"banana\", 4.0, \"cherry\"]\n",
    "my_list.count(\"cherry\")"
   ]
  },
  {
   "cell_type": "code",
   "execution_count": 20,
   "id": "1d275652",
   "metadata": {},
   "outputs": [
    {
     "data": {
      "text/plain": [
       "4"
      ]
     },
     "execution_count": 20,
     "metadata": {},
     "output_type": "execute_result"
    }
   ],
   "source": [
    "## 7. From below list print index of \"banana\"\n",
    "my_list = [1, 2.5, \"apple\", 3, \"banana\", 4.0, \"cherry\"]\n",
    "my_list.index(\"banana\")"
   ]
  },
  {
   "cell_type": "code",
   "execution_count": 21,
   "id": "5f2cabb7",
   "metadata": {},
   "outputs": [
    {
     "name": "stdout",
     "output_type": "stream",
     "text": [
      "['Pune', 'Delhi', 'Mumbai', 'Indore', 'Jaipur']\n"
     ]
    }
   ],
   "source": [
    "## 8. From below list remove last item\n",
    "my_list = [\"Pune\",\"Delhi\",\"Mumbai\",\"Indore\",\"Jaipur\",\"Dehradun\"]\n",
    "my_list.remove(my_list[-1])\n",
    "print(my_list)"
   ]
  },
  {
   "cell_type": "code",
   "execution_count": 22,
   "id": "040ad214",
   "metadata": {},
   "outputs": [
    {
     "name": "stdout",
     "output_type": "stream",
     "text": [
      "['Apple', 'Banana', 'Cherry', 'Grapes', 'Mango']\n"
     ]
    }
   ],
   "source": [
    "## 9. Sort the below list in Alphabetical order\n",
    "my_list = [\"Grapes\",\"Apple\",\"Cherry\",\"Mango\",\"Banana\"]\n",
    "my_list.sort()\n",
    "print(my_list)"
   ]
  },
  {
   "cell_type": "code",
   "execution_count": 23,
   "id": "b9e91db4",
   "metadata": {},
   "outputs": [
    {
     "name": "stdout",
     "output_type": "stream",
     "text": [
      "['Mango', 'Grapes', 'Cherry', 'Banana', 'Apple']\n"
     ]
    }
   ],
   "source": [
    "## 10. Sort below list in reverse Alphabetical order\n",
    "my_list = [\"Grapes\",\"Apple\",\"Cherry\",\"Mango\",\"Banana\"]\n",
    "my_list.sort(reverse = True)\n",
    "print(my_list)"
   ]
  },
  {
   "cell_type": "code",
   "execution_count": 24,
   "id": "538f5e0b",
   "metadata": {},
   "outputs": [
    {
     "name": "stdout",
     "output_type": "stream",
     "text": [
      "[3, 'element number two', ['last', 'element']]\n"
     ]
    }
   ],
   "source": [
    "# 11. Create a list name myList that has three elements:\n",
    "     # 1. The integer 3\n",
    "     # 2. The String 'element number two'\n",
    "     # 3. Another list ['last', 'element']\n",
    "\n",
    "mylist = [3, 'element number two', ['last', 'element']]\n",
    "print(mylist)"
   ]
  },
  {
   "cell_type": "code",
   "execution_count": 25,
   "id": "5b48cdb6",
   "metadata": {},
   "outputs": [
    {
     "name": "stdout",
     "output_type": "stream",
     "text": [
      "3\n"
     ]
    }
   ],
   "source": [
    "# 12. Print the third element of the following list.\n",
    "l = [1, 2, 3, 4, 5, 6, 7, 8, 9]\n",
    "print(l[2])"
   ]
  },
  {
   "cell_type": "code",
   "execution_count": 26,
   "id": "c1636006",
   "metadata": {},
   "outputs": [
    {
     "name": "stdout",
     "output_type": "stream",
     "text": [
      "['a', 'b', 16]\n"
     ]
    }
   ],
   "source": [
    "# 13. Modify the last element of this list so that its value is 16. Print the modified list so you know the operformed successfully.\n",
    "listToModify = ['a', 'b', 'sixteen']\n",
    "listToModify[-1] = 16\n",
    "print(listToModify)"
   ]
  },
  {
   "cell_type": "code",
   "execution_count": 27,
   "id": "9c51c96f",
   "metadata": {},
   "outputs": [
    {
     "data": {
      "text/plain": [
       "8"
      ]
     },
     "execution_count": 27,
     "metadata": {},
     "output_type": "execute_result"
    }
   ],
   "source": [
    "# 14. Calculate the length of the following list. \n",
    "listToFindLength = ['this', 'is', 'the', 'list', 'whose', 'lenght', 'I', 'want']\n",
    "len(listToFindLength)"
   ]
  },
  {
   "cell_type": "code",
   "execution_count": 28,
   "id": "3a8b685f",
   "metadata": {},
   "outputs": [
    {
     "data": {
      "text/plain": [
       "3622"
      ]
     },
     "execution_count": 28,
     "metadata": {},
     "output_type": "execute_result"
    }
   ],
   "source": [
    "# 15. Calcualte the sum of the following list. \n",
    "inList = [54, 678, 2890]\n",
    "sum(inList)"
   ]
  },
  {
   "cell_type": "code",
   "execution_count": 29,
   "id": "afda325c",
   "metadata": {},
   "outputs": [
    {
     "data": {
      "text/plain": [
       "53245"
      ]
     },
     "execution_count": 29,
     "metadata": {},
     "output_type": "execute_result"
    }
   ],
   "source": [
    "# 16. Find the maximum value of the following list. \n",
    "maxList = [677, 53245, 234, 236, 23456, 345, 23526, 3454]\n",
    "max(maxList)"
   ]
  },
  {
   "cell_type": "code",
   "execution_count": 30,
   "id": "61b29e63",
   "metadata": {},
   "outputs": [
    {
     "data": {
      "text/plain": [
       "134"
      ]
     },
     "execution_count": 30,
     "metadata": {},
     "output_type": "execute_result"
    }
   ],
   "source": [
    "# 17. Find the minimum value of the following list.\n",
    "minList = [351, 984, 1697, 284, 134, 467, 164]\n",
    "min(minList)"
   ]
  },
  {
   "cell_type": "code",
   "execution_count": 31,
   "id": "74cd997d",
   "metadata": {},
   "outputs": [],
   "source": [
    "# 18. Append the string 'append me!' to the end of the following list. Print the list to ensure the operation has been completed successfully.\n",
    "listToAppend = [1, 2, 3]\n",
    "listToAppend.append('append me!')"
   ]
  }
 ],
 "metadata": {
  "kernelspec": {
   "display_name": "Python 3 (ipykernel)",
   "language": "python",
   "name": "python3"
  },
  "language_info": {
   "codemirror_mode": {
    "name": "ipython",
    "version": 3
   },
   "file_extension": ".py",
   "mimetype": "text/x-python",
   "name": "python",
   "nbconvert_exporter": "python",
   "pygments_lexer": "ipython3",
   "version": "3.9.12"
  }
 },
 "nbformat": 4,
 "nbformat_minor": 5
}
